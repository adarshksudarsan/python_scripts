{
 "cells": [
  {
   "cell_type": "markdown",
   "id": "f251d8a8",
   "metadata": {},
   "source": [
    "# Level 1 "
   ]
  },
  {
   "cell_type": "markdown",
   "id": "a85ed546",
   "metadata": {},
   "source": [
    "http://wiki.pythonchallenge.com/index.php?title=Level1:Main_Page"
   ]
  },
  {
   "cell_type": "code",
   "execution_count": 13,
   "id": "eb378603",
   "metadata": {},
   "outputs": [
    {
     "ename": "AttributeError",
     "evalue": "module 'string' has no attribute 'maketrans'",
     "output_type": "error",
     "traceback": [
      "\u001b[0;31m---------------------------------------------------------------------------\u001b[0m",
      "\u001b[0;31mAttributeError\u001b[0m                            Traceback (most recent call last)",
      "\u001b[0;32m<ipython-input-13-58a38deffd99>\u001b[0m in \u001b[0;36m<module>\u001b[0;34m\u001b[0m\n\u001b[1;32m      1\u001b[0m \u001b[0;32mimport\u001b[0m \u001b[0mstring\u001b[0m\u001b[0;34m\u001b[0m\u001b[0;34m\u001b[0m\u001b[0m\n\u001b[1;32m      2\u001b[0m \u001b[0mtext\u001b[0m \u001b[0;34m=\u001b[0m \u001b[0;34m\"\"\"g fmnc wms bgblr rpylqjyrc gr zw fylb. rfyrq ufyr amknsrcpq ypc dmp. bmgle gr gl zw fylb gq glcddgagclr ylb rfyr'q ufw rfgq rcvr gq qm jmle. sqgle qrpgle.kyicrpylq() gq pcamkkclbcb. lmu ynnjw ml rfc spj.\"\"\"\u001b[0m\u001b[0;34m\u001b[0m\u001b[0;34m\u001b[0m\u001b[0m\n\u001b[0;32m----> 3\u001b[0;31m table = string.maketrans(\n\u001b[0m\u001b[1;32m      4\u001b[0m    \u001b[0mstring\u001b[0m\u001b[0;34m.\u001b[0m\u001b[0mascii_lowercase\u001b[0m\u001b[0;34m,\u001b[0m\u001b[0;34m\u001b[0m\u001b[0;34m\u001b[0m\u001b[0m\n\u001b[1;32m      5\u001b[0m    string.ascii_lowercase[2:]+string.ascii_lowercase[:2])\n",
      "\u001b[0;31mAttributeError\u001b[0m: module 'string' has no attribute 'maketrans'"
     ]
    }
   ],
   "source": [
    "import string\n",
    "text = \"\"\"g fmnc wms bgblr rpylqjyrc gr zw fylb. rfyrq ufyr amknsrcpq ypc dmp. bmgle gr gl zw fylb gq glcddgagclr ylb rfyr'q ufw rfgq rcvr gq qm jmle. sqgle qrpgle.kyicrpylq() gq pcamkkclbcb. lmu ynnjw ml rfc spj.\"\"\"\n",
    "table = string.maketrans(\n",
    "   string.ascii_lowercase,\n",
    "   string.ascii_lowercase[2:]+string.ascii_lowercase[:2])\n",
    "print(table)"
   ]
  },
  {
   "cell_type": "markdown",
   "id": "8ec30916",
   "metadata": {},
   "source": [
    "# Level 2"
   ]
  },
  {
   "cell_type": "markdown",
   "id": "e75e7c79",
   "metadata": {},
   "source": [
    "http://wiki.pythonchallenge.com/index.php?title=Level2:Main_Page"
   ]
  },
  {
   "cell_type": "markdown",
   "id": "661ed633",
   "metadata": {},
   "source": [
    "# ocr_inspect_element"
   ]
  },
  {
   "cell_type": "markdown",
   "id": "49d61228",
   "metadata": {},
   "source": [
    "### Counter\n",
    "It is a dictionary subclass which is used to count hashable objects.https://www.edureka.co/blog/collections-in-python/"
   ]
  },
  {
   "cell_type": "code",
   "execution_count": 11,
   "id": "e8b5345f",
   "metadata": {},
   "outputs": [
    {
     "name": "stdout",
     "output_type": "stream",
     "text": [
      "Counter({1: 4, 3: 4, 4: 2, 2: 1})\n",
      "Counter({'f': 3, 'e': 2, 'a': 1, 'b': 1, 'c': 1, 'd': 1, 'g': 1})\n"
     ]
    }
   ],
   "source": [
    "from collections import Counter\n",
    "a = [1,1,1,1,2,3,3,4,3,3,4]\n",
    "b=\"abcdeefffg\"\n",
    "c = Counter(a)\n",
    "d = Counter(b)\n",
    "print(c)\n",
    "print(d)"
   ]
  },
  {
   "cell_type": "raw",
   "id": "5c07278c",
   "metadata": {},
   "source": [
    "for our problem I am saving the corresponding text to a txt file named sample.txt"
   ]
  },
  {
   "cell_type": "markdown",
   "id": "5a559e7f",
   "metadata": {},
   "source": [
    "# pgm"
   ]
  },
  {
   "cell_type": "code",
   "execution_count": 12,
   "id": "2c11fc1e",
   "metadata": {},
   "outputs": [
    {
     "name": "stdout",
     "output_type": "stream",
     "text": [
      "File Name: sample.txt\n",
      "Counter({')': 6186,\n",
      "         '@': 6157,\n",
      "         '(': 6154,\n",
      "         ']': 6152,\n",
      "         '#': 6115,\n",
      "         '_': 6112,\n",
      "         '[': 6108,\n",
      "         '}': 6105,\n",
      "         '%': 6104,\n",
      "         '!': 6080,\n",
      "         '+': 6066,\n",
      "         '$': 6046,\n",
      "         '{': 6046,\n",
      "         '&': 6043,\n",
      "         '*': 6034,\n",
      "         '^': 6030,\n",
      "         '\\n': 1221,\n",
      "         '-': 4,\n",
      "         '<': 1,\n",
      "         'E': 1,\n",
      "         'Q': 1,\n",
      "         'U': 1,\n",
      "         'A': 1,\n",
      "         'L': 1,\n",
      "         'I': 1,\n",
      "         'T': 1,\n",
      "         'Y': 1,\n",
      "         '>': 1})\n"
     ]
    }
   ],
   "source": [
    "import collections\n",
    "import pprint\n",
    "file_input = input('File Name: ')\n",
    "with open(file_input, 'r') as info:\n",
    "  count = collections.Counter(info.read().upper())\n",
    "  value = pprint.pformat(count)\n",
    "print(value)"
   ]
  },
  {
   "cell_type": "code",
   "execution_count": null,
   "id": "0e0db46b",
   "metadata": {},
   "outputs": [],
   "source": []
  }
 ],
 "metadata": {
  "kernelspec": {
   "display_name": "Python 3",
   "language": "python",
   "name": "python3"
  },
  "language_info": {
   "codemirror_mode": {
    "name": "ipython",
    "version": 3
   },
   "file_extension": ".py",
   "mimetype": "text/x-python",
   "name": "python",
   "nbconvert_exporter": "python",
   "pygments_lexer": "ipython3",
   "version": "3.6.12"
  }
 },
 "nbformat": 4,
 "nbformat_minor": 5
}
